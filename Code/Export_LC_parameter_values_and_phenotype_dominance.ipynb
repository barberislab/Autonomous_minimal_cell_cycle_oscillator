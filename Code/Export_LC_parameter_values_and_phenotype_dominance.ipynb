{
 "cells": [
  {
   "cell_type": "code",
   "execution_count": 1,
   "metadata": {
    "inputHidden": false,
    "outputHidden": false
   },
   "outputs": [],
   "source": [
    "%load_ext autoreload\n",
    "%autoreload 2\n",
    "\n",
    "import pandas as pd\n",
    "pd.set_option('display.max_columns', None)\n",
    "pd.set_option('display.max_colwidth', -1)\n",
    "import ast\n",
    "import numpy as np\n",
    "import matplotlib.pyplot as plt\n",
    "\n",
    "from sklearn.preprocessing import StandardScaler\n",
    "from sklearn.decomposition import PCA\n",
    "\n",
    "import seaborn as sns\n",
    "\n",
    "import dspace\n",
    "import dspace.plotutils\n",
    "\n",
    "from utils import int_model, draw_single_pheno_samples, check_oscillation, \\\n",
    "                  process_check_plot_pset, count_parameter_occurence, merge_two_dicts, \\\n",
    "                  random_sample_phenotype, update_stability, load_model_variables, build_analyse_design_space\n",
    "\n",
    "SMALL_SIZE = 18\n",
    "MEDIUM_SIZE = 22\n",
    "BIGGER_SIZE = 26\n",
    "plt.rc('font', size=SMALL_SIZE)          # controls default text sizes\n",
    "plt.rc('axes', titlesize=MEDIUM_SIZE)     # fontsize of the axes title\n",
    "plt.rc('axes', labelsize=MEDIUM_SIZE)    # fontsize of the x and y labels\n",
    "plt.rc('xtick', labelsize=MEDIUM_SIZE)    # fontsize of the tick labels\n",
    "plt.rc('ytick', labelsize=MEDIUM_SIZE)    # fontsize of the tick labels\n",
    "plt.rc('legend', fontsize=SMALL_SIZE)    # legend fontsize\n",
    "plt.rc('figure', titlesize=MEDIUM_SIZE)  # fontsize of the figure title"
   ]
  },
  {
   "cell_type": "code",
   "execution_count": 2,
   "metadata": {
    "inputHidden": false,
    "outputHidden": false,
    "scrolled": true
   },
   "outputs": [],
   "source": [
    "model_list = ['Design 3','Design 4','Design 5','Design 6','Design 7','Design 8','Design 9']\n",
    "\n",
    "pnames = {}\n",
    "\n",
    "all_pvals = {} # will contain pvals_model (below) for each model\n",
    "\n",
    "path = '../LCs/summary_parameter_values_and_phenotype_dominance.xlsx'\n",
    "with pd.ExcelWriter(path, engine='xlsxwriter') as writer:\n",
    "    for j, model in enumerate(model_list):\n",
    "        # load design space model\n",
    "        scipy_model, pset, variables, y0, f, constraints, parbounds, latex_symbols, varnames = load_model_variables(model.replace('D','d').replace(' ','_'))\n",
    "        ds, valid_cases = build_analyse_design_space(model, f, constraints, latex_symbols)\n",
    "\n",
    "        path = '../LCs/'+model+'/LC_parameters'\n",
    "        df_LC = pd.read_pickle(path)\n",
    "\n",
    "        # require correct peak sequence\n",
    "        df_LC = df_LC[df_LC['Peak sequence'].isin(['s, x, y, z','x, y, z, s', 'y, z, s, x', 'z, s, x, y'])]\n",
    "\n",
    "        df_LC = df_LC.apply(lambda x: dict(x['Parameters']),axis=1)\n",
    "\n",
    "        df_pars = pd.DataFrame()\n",
    "        df_dominance = pd.DataFrame()\n",
    "\n",
    "        for i, row in enumerate(df_LC):\n",
    "            # combine the parameters \n",
    "            new_df = pd.DataFrame([df_LC.iloc[i]], index=[df_LC.index[i]])\n",
    "            df_pars = df_pars.append(new_df)\n",
    "            \n",
    "            # find the dominant parameters in the current row's phenotype\n",
    "            phenotype = df_LC.index[i]\n",
    "            \n",
    "            df_dominance_pheno = count_parameter_occurence(ds, [phenotype])\n",
    "            df_dominance_pheno.index = [df_LC.index[i]]\n",
    "            if phenotype not in df_dominance.index.tolist():\n",
    "                df_dominance = df_dominance.append(df_dominance_pheno)\n",
    "\n",
    "                \n",
    "        # drop \"1\" \n",
    "        df_dominance = df_dominance.drop(labels='1', axis='columns')\n",
    "        \n",
    "        # Export to Excel\n",
    "        df_pars.to_excel(writer, sheet_name=model+\"_parameter_values\")\n",
    "        df_dominance.to_excel(writer, sheet_name=model+\"_dominance\")\n",
    "\n",
    "    writer.save()              "
   ]
  },
  {
   "cell_type": "code",
   "execution_count": null,
   "metadata": {},
   "outputs": [],
   "source": []
  }
 ],
 "metadata": {
  "kernel_info": {
   "name": "python2"
  },
  "kernelspec": {
   "display_name": "Python 2",
   "language": "python",
   "name": "python2"
  },
  "language_info": {
   "codemirror_mode": {
    "name": "ipython",
    "version": 2
   },
   "file_extension": ".py",
   "mimetype": "text/x-python",
   "name": "python",
   "nbconvert_exporter": "python",
   "pygments_lexer": "ipython2",
   "version": "2.7.18"
  },
  "nteract": {
   "version": "0.12.3"
  },
  "toc": {
   "nav_menu": {},
   "number_sections": true,
   "sideBar": true,
   "skip_h1_title": false,
   "toc_cell": false,
   "toc_position": {},
   "toc_section_display": "block",
   "toc_window_display": false
  }
 },
 "nbformat": 4,
 "nbformat_minor": 4
}
