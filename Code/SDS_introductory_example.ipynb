{
 "cells": [
  {
   "cell_type": "code",
   "execution_count": 1,
   "metadata": {
    "collapsed": true
   },
   "outputs": [],
   "source": [
    "from math import *\n",
    "import dspace\n",
    "import dspace.plotutils\n",
    "from matplotlib.pyplot import *\n",
    "matplotlib.interactive(True)\n",
    "# %matplotlib inline"
   ]
  },
  {
   "cell_type": "markdown",
   "metadata": {},
   "source": [
    "## Example 1: a simple 2D system"
   ]
  },
  {
   "cell_type": "code",
   "execution_count": 2,
   "metadata": {
    "collapsed": true
   },
   "outputs": [],
   "source": [
    "f = ['X. =     alpha*X * X2*X3*X4 + X*X2 - X',\n",
    "     'X2. = alpha^-1*X*X2*X3*X4 + X*X2 - X2']\n",
    "eq = dspace.Equations(f)"
   ]
  },
  {
   "cell_type": "code",
   "execution_count": 3,
   "metadata": {},
   "outputs": [
    {
     "data": {
      "text/plain": [
       "Model: Unnamed\n",
       "Equations:\n",
       "X.=alpha*X3*X4*X*X2+X*X2-X\n",
       "X2.=alpha^-1*X3*X4*X*X2+X*X2-X2"
      ]
     },
     "execution_count": 3,
     "metadata": {},
     "output_type": "execute_result"
    }
   ],
   "source": [
    "ds = dspace.DesignSpace(eq)\n",
    "ds"
   ]
  },
  {
   "cell_type": "code",
   "execution_count": 4,
   "metadata": {},
   "outputs": [
    {
     "data": {
      "text/plain": [
       "4"
      ]
     },
     "execution_count": 4,
     "metadata": {},
     "output_type": "execute_result"
    }
   ],
   "source": [
    "ds.number_of_cases"
   ]
  },
  {
   "cell_type": "code",
   "execution_count": 5,
   "metadata": {},
   "outputs": [
    {
     "data": {
      "text/plain": [
       "'2121'"
      ]
     },
     "execution_count": 5,
     "metadata": {},
     "output_type": "execute_result"
    }
   ],
   "source": [
    "ds.signature\n"
   ]
  },
  {
   "cell_type": "code",
   "execution_count": 6,
   "metadata": {},
   "outputs": [
    {
     "name": "stdout",
     "output_type": "stream",
     "text": [
      "1121\n"
     ]
    },
    {
     "data": {
      "text/plain": [
       "X.=X*X2*alpha*X3*X4-X\n",
       "X2.=X*X2-X2"
      ]
     },
     "execution_count": 6,
     "metadata": {},
     "output_type": "execute_result"
    }
   ],
   "source": [
    "case_1 = ds(2)\n",
    "cases = ds([2, 3, 4])\n",
    "print case_1.case_signature\n",
    "cases[0].equations"
   ]
  },
  {
   "cell_type": "code",
   "execution_count": 7,
   "metadata": {},
   "outputs": [
    {
     "data": {
      "text/plain": [
       "Model: Unnamed: Case 3\n",
       "Equations:\n",
       "X.=X*X2-X\n",
       "X2.=X*X2*alpha^-1*X3*X4-X2"
      ]
     },
     "execution_count": 7,
     "metadata": {},
     "output_type": "execute_result"
    }
   ],
   "source": [
    "case2, case3, case4 = cases\n",
    "case3"
   ]
  },
  {
   "cell_type": "code",
   "execution_count": 8,
   "metadata": {},
   "outputs": [
    {
     "data": {
      "text/plain": [
       "Model: Unnamed: Case 2\n",
       "Equations:\n",
       "X.=X*X2*alpha*X3*X4-X\n",
       "X2.=X*X2-X2"
      ]
     },
     "execution_count": 8,
     "metadata": {},
     "output_type": "execute_result"
    }
   ],
   "source": [
    "case_1121 = ds('1121', by_signature=True)\n",
    "case_1121"
   ]
  },
  {
   "cell_type": "code",
   "execution_count": 9,
   "metadata": {},
   "outputs": [
    {
     "data": {
      "text/plain": [
       "log(alpha)+log(X3)+log(X4)>0\n",
       "log(alpha)-log(X3)-log(X4)>0"
      ]
     },
     "execution_count": 9,
     "metadata": {},
     "output_type": "execute_result"
    }
   ],
   "source": [
    "case_1.conditions_log"
   ]
  },
  {
   "cell_type": "code",
   "execution_count": 10,
   "metadata": {},
   "outputs": [
    {
     "data": {
      "text/plain": [
       "log(alpha)+log(X3)+log(X4)>0\n",
       "log(alpha)-log(X3)-log(X4)>0"
      ]
     },
     "execution_count": 10,
     "metadata": {},
     "output_type": "execute_result"
    }
   ],
   "source": [
    "case_1.boundaries_log"
   ]
  },
  {
   "cell_type": "code",
   "execution_count": 11,
   "metadata": {},
   "outputs": [
    {
     "name": "stdout",
     "output_type": "stream",
     "text": [
      "All valid cases: ['1', '2', '3', '4']\n"
     ]
    }
   ],
   "source": [
    "valid_cases = ds.valid_cases()\n",
    "print 'All valid cases: ' + str(valid_cases)"
   ]
  },
  {
   "cell_type": "code",
   "execution_count": 12,
   "metadata": {},
   "outputs": [
    {
     "name": "stdout",
     "output_type": "stream",
     "text": [
      "All valid cases within bounds: ['1', '2', '4']\n"
     ]
    }
   ],
   "source": [
    "valid_cases = ds.valid_cases(p_bounds={'alpha':10,\n",
    "                                       'X3':[1e-3, 1e3],\n",
    "                                       'X4':[1e-3, 1e3]\n",
    "                                       })\n",
    "print 'All valid cases within bounds: ' + str(valid_cases)"
   ]
  },
  {
   "cell_type": "code",
   "execution_count": 13,
   "metadata": {},
   "outputs": [
    {
     "name": "stdout",
     "output_type": "stream",
     "text": [
      "1:1111\n",
      "2:1121\n",
      "4:2121\n"
     ]
    }
   ],
   "source": [
    "# We loop over all the valid cases by their case number\n",
    "for case_number in valid_cases:\n",
    "    # Get the case object\n",
    "    case = ds(case_number)\n",
    "    # Print the case signature\n",
    "    print str(case.case_number) + ':' + case.signature"
   ]
  },
  {
   "cell_type": "code",
   "execution_count": 14,
   "metadata": {},
   "outputs": [
    {
     "data": {
      "image/png": "[encoded data removed]",
      "text/plain": [
       "<Figure size 432x288 with 2 Axes>"
      ]
     },
     "metadata": {},
     "output_type": "display_data"
    }
   ],
   "source": [
    "ivar_names = ds.independent_variables\n",
    "\n",
    "pvals = dspace.VariablePool(names=ivar_names)\n",
    "pvals['alpha'] = 10\n",
    "pvals['X3'] = 1  # Will be a variable on an axis, value wont be affect plot\n",
    "pvals['X4'] = 1  # Will be a variable on an axis, value wont be affect plot\n",
    "\n",
    "clf()\n",
    "fig = gcf()\n",
    "ax = gca()\n",
    "colors = ds.draw_2D_slice(ax,\n",
    "                          pvals,       # Pass the reference parameter set.\n",
    "                          'X3',        # The x-axis variable.\n",
    "                          'X4',        # The y-axis variable.\n",
    "                          [1e-3, 1e3], # Range on the x-axis.\n",
    "                          [1e-3, 1e3], # Indicate the range on the y-axis.\n",
    "                          )\n",
    "grid(True)\n",
    "show()"
   ]
  },
  {
   "cell_type": "code",
   "execution_count": 15,
   "metadata": {},
   "outputs": [
    {
     "data": {
      "image/png": "[encoded data removed]",
      "text/plain": [
       "<Figure size 432x288 with 3 Axes>"
      ]
     },
     "metadata": {},
     "output_type": "display_data"
    }
   ],
   "source": [
    "colors['3'] = (1, 1, 0)\n",
    "\n",
    "ds.draw_2D_slice_interactive(\n",
    "          pvals,                          # Pass the reference parameter set.\n",
    "          'X3',                           # The x-axis variable.\n",
    "          'X4',                           # The y-axis variable.\n",
    "          [1e-3, 1e3],                    # The range on the x-axis.\n",
    "          [1e-3, 1e3],                    # The range on the y-axis.\n",
    "          {'alpha':[1e-5, 1e5]},          # Specify slider parameters and ranges\n",
    "          color_dict = colors\n",
    "          )"
   ]
  },
  {
   "cell_type": "markdown",
   "metadata": {},
   "source": [
    "## Example 2: more advanced functions"
   ]
  },
  {
   "cell_type": "code",
   "execution_count": 16,
   "metadata": {},
   "outputs": [
    {
     "data": {
      "text/plain": [
       "'222211'"
      ]
     },
     "execution_count": 16,
     "metadata": {},
     "output_type": "execute_result"
    }
   ],
   "source": [
    "f = ['X1. =     alpha*X5 + X1*X2 -     alpha*X1*X3*X4^-1 - X1',\n",
    "     'X2. = (1/alpha)*X5 + X1*X2 - (1/alpha)*X2*X3*X4^-1 - X2',\n",
    "     'X5 = X1*X2*X3*X4']\n",
    "eq = dspace.Equations(f, auxiliary_variables=['X5'])\n",
    "\n",
    "ds = dspace.DesignSpace(eq)\n",
    "ds.signature"
   ]
  },
  {
   "cell_type": "code",
   "execution_count": 17,
   "metadata": {},
   "outputs": [
    {
     "name": "stdout",
     "output_type": "stream",
     "text": [
      "All valid cases in slice: ['1', '2', '3', '4', '6', '8', '11', '12', '16']\n"
     ]
    }
   ],
   "source": [
    "valid_cases = ds.valid_cases(p_bounds={'alpha':10, \n",
    "                                       'X3':[1e-3, 1e3],\n",
    "                                       'X4':[1e-3, 1e3]})\n",
    "\n",
    "print 'All valid cases in slice: ' + str(valid_cases)"
   ]
  },
  {
   "cell_type": "code",
   "execution_count": 18,
   "metadata": {},
   "outputs": [
    {
     "name": "stdout",
     "output_type": "stream",
     "text": [
      "['alpha', 'X3', 'X4']\n"
     ]
    }
   ],
   "source": [
    "ivar_names = ds.independent_variables\n",
    "print ivar_names\n",
    "pvals = dspace.VariablePool(names=ivar_names)\n",
    "pvals['alpha'] = 10\n",
    "pvals['X3'] = 1  # Will be a variable on an axis, value wont be affect plot\n",
    "pvals['X4'] = 1  # Will be a variable on an axis, value wont be affect plot"
   ]
  },
  {
   "cell_type": "code",
   "execution_count": 19,
   "metadata": {},
   "outputs": [
    {
     "data": {
      "text/plain": [
       "['X1', 'X2', 'X5']"
      ]
     },
     "execution_count": 19,
     "metadata": {},
     "output_type": "execute_result"
    }
   ],
   "source": [
    "ds.dependent_variables"
   ]
  },
  {
   "cell_type": "markdown",
   "metadata": {},
   "source": [
    "In this example we will plot many different slices of the same dsign space. To get consistent colors for the different regions, we will use a global color scheme with all the valid cases included."
   ]
  },
  {
   "cell_type": "code",
   "execution_count": 20,
   "metadata": {
    "collapsed": true
   },
   "outputs": [],
   "source": [
    "all_valid_cases = ds.valid_cases()\n",
    "colors = dict()\n",
    "for i in range(0, len(all_valid_cases)):\n",
    "    colors[str(all_valid_cases[i])] = matplotlib.cm.hsv(float(i)/len(all_valid_cases))\n",
    "\n",
    "temp = colors['6']\n",
    "colors['6'] = colors['11']\n",
    "colors['11'] = temp"
   ]
  },
  {
   "cell_type": "markdown",
   "metadata": {},
   "source": [
    "We make the design space object plot a 2D slice with a specified x and y axis and a reference parameter set. To make the colors consistent across the figures we have included the colors from the previous plot by passing a color dictionary to the 'color_dict' keyword argument in the drawing method."
   ]
  },
  {
   "cell_type": "code",
   "execution_count": 21,
   "metadata": {},
   "outputs": [
    {
     "data": {
      "image/png": "[encoded data removed]",
      "text/plain": [
       "<Figure size 432x288 with 2 Axes>"
      ]
     },
     "metadata": {},
     "output_type": "display_data"
    }
   ],
   "source": [
    "fig = figure(1)\n",
    "clf()\n",
    "ax = gca()\n",
    "ds.draw_2D_slice(ax,\n",
    "                 pvals,             # Pass the reference parameter set.\n",
    "                 'X3',              # First, indicate the x-axis variable.\n",
    "                 'X4',              # Second, indicate the y-axis variable.\n",
    "                 [1e-3, 1e3],       # The range on the x-axis.\n",
    "                 [1e-3, 1e3],       # The range on the y-axis.\n",
    "                 color_dict=colors, # Specify a color dictionary for the cases.\n",
    "                 )\n",
    "sca(ax)"
   ]
  },
  {
   "cell_type": "markdown",
   "metadata": {},
   "source": [
    "The verticesfor the 2D slice are obtained for case 4, the diamond in the center.\n"
   ]
  },
  {
   "cell_type": "code",
   "execution_count": 22,
   "metadata": {},
   "outputs": [
    {
     "name": "stdout",
     "output_type": "stream",
     "text": [
      "[[10.0, 1.0], [1.0, 0.1], [0.1, 1.0], [1.0, 10.0]]\n"
     ]
    }
   ],
   "source": [
    "case4 = ds(4)\n",
    "vertices = case4.vertices_2D_slice(pvals, 'X3', 'X4')\n",
    "print vertices"
   ]
  },
  {
   "cell_type": "markdown",
   "metadata": {},
   "source": [
    "A bounding box can be obtained with specific constraints on the parameters, by passing parameter values or parameter ranges.\n"
   ]
  },
  {
   "cell_type": "code",
   "execution_count": 23,
   "metadata": {},
   "outputs": [
    {
     "name": "stdout",
     "output_type": "stream",
     "text": [
      "{'X3': [-1.0, 1.0], 'X4': [-1.0, 1.0]}\n"
     ]
    },
    {
     "data": {
      "text/plain": [
       "[<matplotlib.patches.Polygon at 0x109123c10>]"
      ]
     },
     "execution_count": 23,
     "metadata": {},
     "output_type": "execute_result"
    },
    {
     "data": {
      "image/png": "[encoded data removed]",
      "text/plain": [
       "<Figure size 432x288 with 2 Axes>"
      ]
     },
     "metadata": {},
     "output_type": "display_data"
    }
   ],
   "source": [
    "fig = figure(1)\n",
    "clf()\n",
    "ax = gca()\n",
    "ds.draw_2D_slice(ax,\n",
    "                 pvals,             # Pass the reference parameter set.\n",
    "                 'X3',              # First, indicate the x-axis variable.\n",
    "                 'X4',              # Second, indicate the y-axis variable.\n",
    "                 [1e-3, 1e3],       # The range on the x-axis.\n",
    "                 [1e-3, 1e3],       # The range on the y-axis.\n",
    "                 color_dict=colors, # Specify a color dictionary for the cases.\n",
    "                 )\n",
    "sca(ax)\n",
    "\n",
    "box = case4.bounding_box(p_bounds={'alpha':10, \n",
    "                                   'X3':[1e-3, 1e3],\n",
    "                                   'X4':[1e-3, 1e3]}, \n",
    "                         log_out=True);\n",
    "print box\n",
    "\n",
    "x_vertices = [min(box['X3']), min(box['X3']),max(box['X3']), max(box['X3'])]\n",
    "y_vertices = [min(box['X4']), max(box['X4']), max(box['X4']), min(box['X4'])]\n",
    "fill(x_vertices, y_vertices,facecolor='none', edgecolor='k', linewidth=2.)"
   ]
  },
  {
   "cell_type": "code",
   "execution_count": null,
   "metadata": {
    "collapsed": true
   },
   "outputs": [],
   "source": []
  }
 ],
 "metadata": {
  "kernelspec": {
   "display_name": "Python 2",
   "language": "python",
   "name": "python2"
  },
  "language_info": {
   "codemirror_mode": {
    "name": "ipython",
    "version": 2
   },
   "file_extension": ".py",
   "mimetype": "text/x-python",
   "name": "python",
   "nbconvert_exporter": "python",
   "pygments_lexer": "ipython2",
   "version": "2.7.6"
  }
 },
 "nbformat": 4,
 "nbformat_minor": 2
}
